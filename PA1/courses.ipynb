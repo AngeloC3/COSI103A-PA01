{
 "cells": [
  {
   "cell_type": "markdown",
   "metadata": {},
   "source": [
    "# Courses Demo\n",
    "This Jupyter notebook is for exploring the data set courses20-21.json\n",
    "which consists of all Brandeis courses in the 20-21 academic year (Fall20, Spr21, Sum21) \n",
    "which had at least 1 student enrolled.\n",
    "\n",
    "First we need to read the json file into a list of Python dictionaries"
   ]
  },
  {
   "cell_type": "code",
   "execution_count": null,
   "metadata": {},
   "outputs": [],
   "source": [
    "import json\n",
    "from schedule import *\n",
    "from course_search import *"
   ]
  },
  {
   "cell_type": "code",
   "execution_count": null,
   "metadata": {},
   "outputs": [],
   "source": [
    "with open(\"courses20-21.json\",\"r\",encoding='utf-8') as jsonfile:\n",
    "    courses = json.load(jsonfile)"
   ]
  },
  {
   "cell_type": "markdown",
   "metadata": {},
   "source": [
    "## Structure of a course\n",
    "Next we look at the fields of each course dictionary and their values"
   ]
  },
  {
   "cell_type": "code",
   "execution_count": null,
   "metadata": {},
   "outputs": [],
   "source": [
    "print('there are',len(courses),'courses in the dataset')\n",
    "print('here is the data for course 1246')\n",
    "courses[1246]"
   ]
  },
  {
   "cell_type": "markdown",
   "metadata": {},
   "source": [
    "## Cleaning the data\n",
    "If we want to sort courses by instructor or by code, we need to replace the lists with tuples (which are immutable lists)"
   ]
  },
  {
   "cell_type": "code",
   "execution_count": null,
   "metadata": {},
   "outputs": [],
   "source": [
    "for course in courses:\n",
    "        course['instructor'] = tuple(course['instructor'])\n",
    "        course['coinstructors'] = tuple([tuple(f) for f in course['coinstructors']])\n",
    "        course['code']= tuple(course['code'])"
   ]
  },
  {
   "cell_type": "code",
   "execution_count": null,
   "metadata": {},
   "outputs": [],
   "source": [
    "print('notice that the instructor and code are tuples now')\n",
    "courses[1246]"
   ]
  },
  {
   "cell_type": "markdown",
   "metadata": {},
   "source": [
    "# Which terms are represented?"
   ]
  },
  {
   "cell_type": "code",
   "execution_count": null,
   "metadata": {},
   "outputs": [],
   "source": [
    "terms = {c['term'] for c in courses}\n",
    "print(terms)"
   ]
  },
  {
   "cell_type": "markdown",
   "metadata": {},
   "source": [
    "# What are all the subjects"
   ]
  },
  {
   "cell_type": "code",
   "execution_count": null,
   "metadata": {},
   "outputs": [],
   "source": [
    "subjects = {c['subject'] for c in courses}\n",
    "print(\"There are \" + str(len(subjects)) + \" subjects. They are:\")\n",
    "print(subjects)"
   ]
  },
  {
   "cell_type": "markdown",
   "metadata": {},
   "source": [
    "# 5.a: How many instructors taught at Brandeis last year?"
   ]
  },
  {
   "cell_type": "code",
   "execution_count": null,
   "metadata": {},
   "outputs": [],
   "source": [
    "# I'm not sure which terms are considered to be last year, so this includes all terms\n",
    "instructors = {c['instructor'] for c in courses}\n",
    "print(\"There are \" + str(len(instructors)) + \" instuctors.\")"
   ]
  },
  {
   "cell_type": "code",
   "execution_count": null,
   "metadata": {},
   "outputs": [],
   "source": [
    "instructors = {c['instructor'] for c in courses if c['enrolled']>=10}\n",
    "print(\"There are \" + str(len(instructors)) + \" instuctors that taught a class with at least 10 students.\")"
   ]
  },
  {
   "cell_type": "markdown",
   "metadata": {},
   "source": [
    "# What are the 5 largest course sections?"
   ]
  },
  {
   "cell_type": "code",
   "execution_count": null,
   "metadata": {},
   "outputs": [],
   "source": [
    "largest_courses = sorted(courses, key = lambda course: course['enrolled'], reverse=True)\n",
    "[(course['enrolled'], course['name']) for course in largest_courses[:5]]"
   ]
  },
  {
   "cell_type": "markdown",
   "metadata": {},
   "source": [
    "# 5.b: What is the total number of students taking COSI courses last year?"
   ]
  },
  {
   "cell_type": "code",
   "execution_count": null,
   "metadata": {},
   "outputs": [],
   "source": [
    "cosi_students=[course['enrolled'] for course in courses if course['subject']==\"COSI\"]\n",
    "print(\"There were \"+str(sum(cosi_students))+\" students who took COSI courses.\")"
   ]
  },
  {
   "cell_type": "markdown",
   "metadata": {},
   "source": [
    "# 5.c: What was the median size of a COSI course last year (counting only those courses with at least 10 students)"
   ]
  },
  {
   "cell_type": "code",
   "execution_count": null,
   "metadata": {},
   "outputs": [],
   "source": [
    "cosi_enrolled=sorted([course['enrolled'] for course in courses if course['subject']==\"COSI\" and course['enrolled']>=10])\n",
    "median = (cosi_enrolled[len(cosi_enrolled)//2-1]/2.0+cosi_enrolled[len(cosi_enrolled)//2]/2.0, (cosi_enrolled)[len(cosi_enrolled)//2])[len(cosi_enrolled) % 2]\n",
    "print(\"The median size of a COSI course last year was \" + str(median) + \".\")"
   ]
  },
  {
   "cell_type": "markdown",
   "metadata": {},
   "source": [
    "# 5.d: Create a list of tuples (E,S) where S is a subject and E is the number of students enrolled in courses in that subject, sort it and print the top 10. This shows the top 10 subjects in terms of number of students taught.\n"
   ]
  },
  {
   "cell_type": "code",
   "execution_count": null,
   "metadata": {},
   "outputs": [],
   "source": [
    "def num_enrollments(subject):\n",
    "    enroll = [course['enrolled'] for course in courses if course['subject']==subject]\n",
    "    return sum(enroll)\n",
    "\n",
    "subject_enrollments = sorted([(num_enrollments(subject),subject) for subject in subjects],reverse=True)[:10]\n",
    "print(\"Top 10 subjects in terms of number of students taught:\\n\",[sub[1] for sub in subject_enrollments],\"\\n---------\\n\",\"More info (# of students,subject):\\n\", subject_enrollments)"
   ]
  },
  {
   "cell_type": "markdown",
   "metadata": {
    "tags": []
   },
   "source": [
    "# 5.e: Do the same as in (d) but print the top 10 subjects in terms of number of courses offered"
   ]
  },
  {
   "cell_type": "code",
   "execution_count": null,
   "metadata": {},
   "outputs": [],
   "source": [
    "def courses_offered(subject):\n",
    "    return len([c for c in courses if c['subject']==subject])\n",
    "subject_courses = sorted([(courses_offered(subject),subject) for subject in subjects],reverse=True)[:10]\n",
    "print(\"Top 10 subjects in terms of number of courses offered:\\n\",[sub[1] for sub in subject_courses],\"\\n---------\\n\",\"More info (# of courses,subject):\\n\", subject_courses)\n"
   ]
  },
  {
   "cell_type": "markdown",
   "metadata": {},
   "source": [
    "# 5.f: Do the same as (d) but print the top 10 subjects in terms of number of faculty teaching courses in that subject"
   ]
  },
  {
   "cell_type": "code",
   "execution_count": null,
   "metadata": {},
   "outputs": [],
   "source": [
    "def num_faculty(subject):\n",
    "    return len({course['instructor'] for course in courses if course['subject']==subject})\n",
    "faculty_subject = sorted([(num_faculty(subject),subject) for subject in subjects],reverse=True)[:10]\n",
    "print(\"Top 10 subjects in terms of number of faculty teaching courses:\\n\",[sub[1] for sub in faculty_subject],\"\\n---------\\n\",\"More info (# of faculty,subject):\\n\", faculty_subject)\n",
    "# print(sorted(faculty_subject,reverse=True)[:10])"
   ]
  },
  {
   "cell_type": "markdown",
   "metadata": {},
   "source": [
    "# 5.g: List the top 20 faculty in terms of number of students they taught"
   ]
  },
  {
   "cell_type": "code",
   "execution_count": null,
   "metadata": {},
   "outputs": [],
   "source": [
    "def students_taught(instructor):\n",
    "    return sum({course['enrolled'] for course in courses if course['instructor']==instructor})\n",
    "top_facu=sorted([(students_taught(instructor),instructor) for instructor in instructors],reverse=True)[:10]\n",
    "print(\"Top 20 faculty in terms of number of students they taught:\\n\",[sub[1] for sub in top_facu],\"\\n---------\\n\",\"More info (# of enrollment,faculty):\\n\",top_facu)"
   ]
  },
  {
   "cell_type": "markdown",
   "metadata": {},
   "source": [
    "# 5.h: List the top 20 courses in terms of number of students taking that course across semesters and sections"
   ]
  },
  {
   "cell_type": "code",
   "execution_count": null,
   "metadata": {},
   "outputs": [],
   "source": [
    "tops = {}\n",
    "for c in courses:\n",
    "    name = c['name']\n",
    "    enrolled = c['enrolled']\n",
    "    if name in tops:\n",
    "        tops[name] = tops[name] + enrolled\n",
    "    else:\n",
    "        tops[name] = enrolled\n",
    "sorted_tops = [(k,v) for k, v in sorted(tops.items(), key=lambda x: x[1], reverse=True)]\n",
    "count = 1\n",
    "for course in sorted_tops:\n",
    "    if (count > 20):\n",
    "        break\n",
    "    print(str(count) + \". \" + course[0] + \" - \" + str(course[1]))\n",
    "    count += 1"
   ]
  },
  {
   "cell_type": "markdown",
   "metadata": {},
   "source": [
    "# 5.i Creative Questions"
   ]
  },
  {
   "cell_type": "markdown",
   "metadata": {},
   "source": [
    "Angelo's question - What is the average amount of students in a COSI courses that have at least 1 student?"
   ]
  },
  {
   "cell_type": "code",
   "execution_count": null,
   "metadata": {},
   "outputs": [],
   "source": [
    "cosi_enrollments = [c['enrolled'] for c in courses if c['subject'] == \"COSI\" if c['enrolled'] > 0]\n",
    "sum3 = 0\n",
    "for val in cosi_enrollments:\n",
    "    sum3 += val\n",
    "avg = sum3 // len(cosi_enrollments)\n",
    "print(\"The average amount of students in a COSI course that has students is \" + str(avg) + \"!\")"
   ]
  },
  {
   "cell_type": "markdown",
   "metadata": {},
   "source": [
    "\n",
    "Su Lei's question - What percentage of available courses required instructor's signature to enroll?"
   ]
  },
  {
   "cell_type": "code",
   "execution_count": null,
   "metadata": {},
   "outputs": [],
   "source": [
    "sign_required=[course for course in courses if \"Instructor's Signature Required\".lower() in course['details'].lower()]\n",
    "percentage = len(sign_required)/len(courses)\n",
    "print(\"{:.2f}\".format(percentage),\"% of the courses required instructor's signature.\")"
   ]
  },
  {
   "cell_type": "markdown",
   "metadata": {},
   "source": [
    "Josh Liu: Which classes have descriptions of which every word is in alphabetical order?"
   ]
  },
  {
   "cell_type": "code",
   "execution_count": null,
   "metadata": {},
   "outputs": [],
   "source": [
    "alphabetical_classes = []\n",
    "for course in courses:\n",
    "    isAlphabetical = True\n",
    "    letter = \"a\"\n",
    "    word_array = course['description'].split()\n",
    "    for word in word_array:\n",
    "        word = word.lower()\n",
    "        if word[0] < letter:\n",
    "            isAlphabetical = False\n",
    "        else:\n",
    "            letter = word[0]\n",
    "    if isAlphabetical and len(word_array) > 1:\n",
    "        alphabetical_classes.append(course)\n",
    "print(\"There are \" + str(len(alphabetical_classes)) + \" classes with alphabetically ordered descriptions!\")\n",
    "print(\"... many of them independent studies with a very short description. Oh well, it technically fits.\")"
   ]
  },
  {
   "cell_type": "markdown",
   "metadata": {},
   "source": [
    "# 6.a,b,c: Showing the title, description and custom filter"
   ]
  },
  {
   "cell_type": "code",
   "execution_count": null,
   "metadata": {},
   "outputs": [],
   "source": [
    "s = Schedule(courses)\n",
    "#print(s.courses[:3])\n",
    "titles = s.title(\"computer\")\n",
    "descriptions = s.description(\"human\")\n",
    "ind_studies = s.independent_study_filter(True)\n",
    "print(titles.courses[0]['name'])\n",
    "print(\"-----\")\n",
    "print(descriptions.courses[0]['description'])\n",
    "print(\"-----\")\n",
    "print(ind_studies.courses[0]['name'] + \" - \" + str(ind_studies.courses[0]['independent_study']))"
   ]
  },
  {
   "cell_type": "code",
   "execution_count": null,
   "metadata": {},
   "outputs": [],
   "source": []
  }
 ],
 "metadata": {
  "interpreter": {
   "hash": "669f5abd92f1a410df15b0643b9f42360e277a412fc08ae8bc7d7911cf7e8f3d"
  },
  "kernelspec": {
   "display_name": "Python 3.10.2 64-bit",
   "name": "python3"
  },
  "language_info": {
   "codemirror_mode": {
    "name": "ipython",
    "version": 3
   },
   "file_extension": ".py",
   "mimetype": "text/x-python",
   "name": "python",
   "nbconvert_exporter": "python",
   "pygments_lexer": "ipython3",
   "version": "3.10.2"
  }
 },
 "nbformat": 4,
 "nbformat_minor": 4
}
