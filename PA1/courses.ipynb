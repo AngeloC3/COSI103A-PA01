{
 "cells": [
  {
   "cell_type": "markdown",
   "metadata": {},
   "source": [
    "# Courses Demo\n",
    "This Jupyter notebook is for exploring the data set courses20-21.json\n",
    "which consists of all Brandeis courses in the 20-21 academic year (Fall20, Spr21, Sum21) \n",
    "which had at least 1 student enrolled.\n",
    "\n",
    "First we need to read the json file into a list of Python dictionaries"
   ]
  },
  {
   "cell_type": "code",
   "execution_count": 1,
   "metadata": {},
   "outputs": [
    {
     "name": "stdout",
     "output_type": "stream",
     "text": [
      "getting archived regdata from file\n"
     ]
    }
   ],
   "source": [
    "import json\n",
    "from schedule import *\n",
    "from course_search import *"
   ]
  },
  {
   "cell_type": "code",
   "execution_count": 2,
   "metadata": {},
   "outputs": [],
   "source": [
    "with open(\"courses20-21.json\",\"r\",encoding='utf-8') as jsonfile:\n",
    "    courses = json.load(jsonfile)"
   ]
  },
  {
   "cell_type": "markdown",
   "metadata": {},
   "source": [
    "## Structure of a course\n",
    "Next we look at the fields of each course dictionary and their values"
   ]
  },
  {
   "cell_type": "code",
   "execution_count": 3,
   "metadata": {},
   "outputs": [
    {
     "name": "stdout",
     "output_type": "stream",
     "text": [
      "there are 7813 courses in the dataset\n",
      "here is the data for course 1246\n"
     ]
    },
    {
     "data": {
      "text/plain": [
       "{'limit': 28,\n",
       " 'times': [{'start': 1080, 'end': 1170, 'days': ['w', 'm']}],\n",
       " 'enrolled': 4,\n",
       " 'details': 'Instruction for this course will be offered remotely. Meeting times for this course are listed in the schedule of classes (in ET).',\n",
       " 'type': 'section',\n",
       " 'status_text': 'Open',\n",
       " 'section': '1',\n",
       " 'waiting': 0,\n",
       " 'instructor': ['An', 'Huang', 'anhuang@brandeis.edu'],\n",
       " 'coinstructors': [],\n",
       " 'code': ['MATH', '223A'],\n",
       " 'subject': 'MATH',\n",
       " 'coursenum': '223A',\n",
       " 'name': 'Lie Algebras: Representation Theory',\n",
       " 'independent_study': False,\n",
       " 'term': '1203',\n",
       " 'description': \"Theorems of Engel and Lie. Semisimple Lie algebras, Cartan's criterion. Universal enveloping algebras, PBW theorem, Serre's construction. Representation theory. Other topics as time permits. Usually offered every second year.\\nAn Huang\"}"
      ]
     },
     "execution_count": 3,
     "metadata": {},
     "output_type": "execute_result"
    }
   ],
   "source": [
    "print('there are',len(courses),'courses in the dataset')\n",
    "print('here is the data for course 1246')\n",
    "courses[1246]"
   ]
  },
  {
   "cell_type": "markdown",
   "metadata": {},
   "source": [
    "## Cleaning the data\n",
    "If we want to sort courses by instructor or by code, we need to replace the lists with tuples (which are immutable lists)"
   ]
  },
  {
   "cell_type": "code",
   "execution_count": 4,
   "metadata": {},
   "outputs": [],
   "source": [
    "for course in courses:\n",
    "        course['instructor'] = tuple(course['instructor'])\n",
    "        course['coinstructors'] = tuple([tuple(f) for f in course['coinstructors']])\n",
    "        course['code']= tuple(course['code'])"
   ]
  },
  {
   "cell_type": "code",
   "execution_count": 5,
   "metadata": {},
   "outputs": [
    {
     "name": "stdout",
     "output_type": "stream",
     "text": [
      "notice that the instructor and code are tuples now\n"
     ]
    },
    {
     "data": {
      "text/plain": [
       "{'limit': 28,\n",
       " 'times': [{'start': 1080, 'end': 1170, 'days': ['w', 'm']}],\n",
       " 'enrolled': 4,\n",
       " 'details': 'Instruction for this course will be offered remotely. Meeting times for this course are listed in the schedule of classes (in ET).',\n",
       " 'type': 'section',\n",
       " 'status_text': 'Open',\n",
       " 'section': '1',\n",
       " 'waiting': 0,\n",
       " 'instructor': ('An', 'Huang', 'anhuang@brandeis.edu'),\n",
       " 'coinstructors': (),\n",
       " 'code': ('MATH', '223A'),\n",
       " 'subject': 'MATH',\n",
       " 'coursenum': '223A',\n",
       " 'name': 'Lie Algebras: Representation Theory',\n",
       " 'independent_study': False,\n",
       " 'term': '1203',\n",
       " 'description': \"Theorems of Engel and Lie. Semisimple Lie algebras, Cartan's criterion. Universal enveloping algebras, PBW theorem, Serre's construction. Representation theory. Other topics as time permits. Usually offered every second year.\\nAn Huang\"}"
      ]
     },
     "execution_count": 5,
     "metadata": {},
     "output_type": "execute_result"
    }
   ],
   "source": [
    "print('notice that the instructor and code are tuples now')\n",
    "courses[1246]"
   ]
  },
  {
   "cell_type": "markdown",
   "metadata": {},
   "source": [
    "# Exploring the data set\n",
    "Now we will show how to use straight python to explore the data set and answer some interesting questions. Next week we will start learning Pandas/Numpy which are packages that make it easier to explore large dataset efficiently.\n",
    "\n",
    "Here are some questions we can try to asnwer:\n",
    "* what are all of the subjects of courses (e.g. COSI, MATH, JAPN, PHIL, ...)\n",
    "* which terms are represented?\n",
    "* how many instructors taught at Brandeis last year?\n",
    "* what were the five largest course sections?\n",
    "* what were the five largest courses (where we combine sections)?\n",
    "* which are the five largest subjects measured by number of courses offered?\n",
    "* which are the five largest courses measured by number of students taught?\n",
    "* which course had the most sections taught in 20-21?\n",
    "* who are the top five faculty in terms of number of students taught?\n",
    "* etc."
   ]
  },
  {
   "cell_type": "markdown",
   "metadata": {},
   "source": [
    "# Which terms are represented?"
   ]
  },
  {
   "cell_type": "code",
   "execution_count": 6,
   "metadata": {},
   "outputs": [
    {
     "name": "stdout",
     "output_type": "stream",
     "text": [
      "{'1203', '1211', '1212'}\n"
     ]
    }
   ],
   "source": [
    "terms = {c['term'] for c in courses}\n",
    "print(terms)"
   ]
  },
  {
   "cell_type": "markdown",
   "metadata": {},
   "source": [
    "# What are all the subjects"
   ]
  },
  {
   "cell_type": "code",
   "execution_count": 7,
   "metadata": {},
   "outputs": [
    {
     "name": "stdout",
     "output_type": "stream",
     "text": [
      "There are 120 subjects. They are:\n",
      "{'AMST', 'RUCD', 'EAS', 'ENVS', 'AAPI/HIS', 'POL', 'BUS', 'CAST', 'ECON/FIN', 'BUS/FIN', 'KOR', 'ANTH/WGS', 'SJSP', 'HISP', 'CBIO', 'ECON', 'IMES', 'CHSC', 'HS/POL', 'HUM/UWS', 'RECS', 'YDSH', 'FREN', 'ESL', 'RIAS', 'HIST', 'HRNS', 'HBRW', 'RCOM', 'GECS', 'HS', 'ITAL', 'LAT', 'AAPI/WGS', 'RDFT', 'JOUR', 'LGLS', 'AMST/MUS', 'COMP', 'IGS', 'BUS/ECON', 'CHIN', 'GRK', 'HIST/SOC', 'RPJM', 'PSYC', 'JAPN', 'LING', 'NPSY', 'CLAS/ENG', 'RDMD', 'IIM', 'BIOT', 'RMGT', 'PHIL', 'AMST/ENG', 'HUM', 'NEJS', 'BCBP', 'ECS', 'POL/WGS', 'RHIN', 'REL', 'BIPH', 'HOID', 'EL', 'THA', 'ENG', 'CA', 'MUS', 'AAAS', 'ARBC', 'BISC', 'RSAN', 'BIOL', 'CHEM', 'SOC', 'ECS/ENG', 'INT', 'FIN', 'HIST/WGS', 'EBIO', 'ANTH', 'UWS', 'COSI', 'NEUR', 'PMED', 'CLAS', 'RECS/THA', 'AAAS/HIS', 'MATH', 'AAAS/WGS', 'PAX', 'NBIO', 'PHYS', 'WGS', 'ED', 'CLAS/NEJ', 'BCHM', 'LALS', 'MERS', 'FILM', 'COMH', 'GER', 'QBIO', 'HSSP', 'AAS/AAPI', 'QR', 'HWL', 'SAS', 'RBIF', 'GS', 'FA', 'RUS', 'BIBC', 'COML', 'AAPI', 'RIDT', 'RSEG', 'RBOT'}\n"
     ]
    }
   ],
   "source": [
    "subjects = {c['subject'] for c in courses}\n",
    "print(\"There are \" + str(len(subjects)) + \" subjects. They are:\")\n",
    "print(subjects)"
   ]
  },
  {
   "cell_type": "markdown",
   "metadata": {},
   "source": [
    "# 5.a: How many instructors taught at Brandeis last year?"
   ]
  },
  {
   "cell_type": "code",
   "execution_count": 8,
   "metadata": {},
   "outputs": [
    {
     "name": "stdout",
     "output_type": "stream",
     "text": [
      "There are 904 instuctors.\n"
     ]
    }
   ],
   "source": [
    "# I'm not sure which terms are considered to be last year, so this includes all terms\n",
    "instructors = {c['instructor'] for c in courses}\n",
    "print(\"There are \" + str(len(instructors)) + \" instuctors.\")"
   ]
  },
  {
   "cell_type": "code",
   "execution_count": 9,
   "metadata": {},
   "outputs": [
    {
     "name": "stdout",
     "output_type": "stream",
     "text": [
      "There are 652 instuctors that taught a class with at least 10 students.\n"
     ]
    }
   ],
   "source": [
    "instructors = {c['instructor'] for c in courses if c['enrolled']>=10}\n",
    "print(\"There are \" + str(len(instructors)) + \" instuctors that taught a class with at least 10 students.\")"
   ]
  },
  {
   "cell_type": "markdown",
   "metadata": {},
   "source": [
    "# What are the 5 largest course sections?"
   ]
  },
  {
   "cell_type": "code",
   "execution_count": 10,
   "metadata": {},
   "outputs": [
    {
     "data": {
      "text/plain": [
       "[(784, 'Introduction to Navigating Health and Safety'),\n",
       " (186, 'Organic Chemistry I'),\n",
       " (186, 'Physiology'),\n",
       " (181, 'Cells and Organisms'),\n",
       " (180, 'Organic Chemistry II')]"
      ]
     },
     "execution_count": 10,
     "metadata": {},
     "output_type": "execute_result"
    }
   ],
   "source": [
    "largest_courses = sorted(courses, key = lambda course: course['enrolled'], reverse=True)\n",
    "[(course['enrolled'], course['name']) for course in largest_courses[:5]]"
   ]
  },
  {
   "cell_type": "markdown",
   "metadata": {},
   "source": [
    "# 5.b: What is the total number of students taking COSI courses last year?"
   ]
  },
  {
   "cell_type": "code",
   "execution_count": 11,
   "metadata": {},
   "outputs": [
    {
     "name": "stdout",
     "output_type": "stream",
     "text": [
      "There were 2223 students taking COSI last year.\n"
     ]
    }
   ],
   "source": [
    "cosi_students_nums = [c['enrolled'] for c in courses if c['subject'] == 'COSI']\n",
    "sum = 0\n",
    "for num in cosi_students_nums:\n",
    "    sum += num\n",
    "print(\"There were \" + str(sum) + \" students taking COSI last year.\" )"
   ]
  },
  {
   "cell_type": "markdown",
   "metadata": {},
   "source": [
    "# 5.c: What was the median size of a COSI course last year (counting only those courses with at least 10 students)"
   ]
  },
  {
   "cell_type": "code",
   "execution_count": 12,
   "metadata": {},
   "outputs": [
    {
     "name": "stdout",
     "output_type": "stream",
     "text": [
      "The median size of a COSI course last year was 37.\n"
     ]
    }
   ],
   "source": [
    "cosi_courses = [c for c in courses if c['subject'] == 'COSI' if c['enrolled'] >= 10]\n",
    "sortedCC = sorted(cosi_courses, key = lambda course: course['enrolled'])\n",
    "midIndex = len(sortedCC) // 2\n",
    "if ( len(sortedCC) % 2 != 0):\n",
    "    median = sortedCC[midIndex]['enrolled']\n",
    "else:\n",
    "    a = sortedCC[midIndex]['enrolled']\n",
    "    b = sortedCC[midIndex+1]['enrolled']\n",
    "    median = (a + b) / 2\n",
    "print(\"The median size of a COSI course last year was \" + str(median) + \".\")"
   ]
  },
  {
   "cell_type": "markdown",
   "metadata": {},
   "source": [
    "# 5.h: List the top 20 courses in terms of number of students taking that course across semesters and sections"
   ]
  },
  {
   "cell_type": "code",
   "execution_count": 54,
   "metadata": {},
   "outputs": [
    {
     "name": "stdout",
     "output_type": "stream",
     "text": [
      "1. Navigating Health and Safety - 940\n",
      "2. Introduction to Navigating Health and Safety - 879\n",
      "3. General Biology Laboratory - 536\n",
      "4. Dissertation Research - 381\n",
      "5. Genetics and Genomics - 358\n",
      "6. Introduction to Problem Solving in Python - 343\n",
      "7. Introduction to Psychology - 336\n",
      "8. Cells and Organisms - 287\n",
      "9. Techniques of Calculus (a) - 280\n",
      "10. Financial Accounting - 247\n",
      "11. Organic Chemistry Laboratory I - 245\n",
      "12. Organic Chemistry Laboratory II - 239\n",
      "13. Organic Chemistry I - 236\n",
      "14. Statistics - 231\n",
      "15. Organic Chemistry II - 226\n",
      "16. Advanced Programming Techniques in Java - 225\n",
      "17. General Chemistry Laboratory I - 208\n",
      "18. Senior Research - 207\n",
      "19. Introduction to Microeconomics - 207\n",
      "20. Applied Linear Algebra - 204\n"
     ]
    }
   ],
   "source": [
    "tops = {}\n",
    "for c in courses:\n",
    "    name = c['name']\n",
    "    enrolled = c['enrolled']\n",
    "    if name in tops:\n",
    "        tops[name] = tops[name] + enrolled\n",
    "    else:\n",
    "        tops[name] = enrolled\n",
    "sorted_tops = [(k,v) for k, v in sorted(tops.items(), key=lambda x: x[1], reverse=True)]\n",
    "count = 1\n",
    "for course in sorted_tops:\n",
    "    if (count > 20):\n",
    "        break\n",
    "    print(str(count) + \". \" + course[0] + \" - \" + str(course[1]))\n",
    "    count += 1"
   ]
  },
  {
   "cell_type": "markdown",
   "metadata": {},
   "source": [
    "# 6.a,b,c: Showing the title, description and custom filter"
   ]
  },
  {
   "cell_type": "code",
   "execution_count": 14,
   "metadata": {},
   "outputs": [
    {
     "name": "stdout",
     "output_type": "stream",
     "text": [
      "Computer Simulations and Risk Assessment\n",
      "-----\n",
      "Meets for one-half semester and yields half-course credit. \n",
      "\n",
      "Examines the relation between democracy and development geared for development practitioners and policy-makers. Students will discuss if democracy is essential for sustainable development and, if so, what kinds of democracy should be promoted in developing countries. The major critiques of aid and development theory rooted in secular democracy, free-market economies, and human rights will be explored. Usually offered every year.\n",
      "Rajesh Sampath\n",
      "-----\n",
      "Readings in Jewish Professional Leadership - True\n"
     ]
    }
   ],
   "source": [
    "s = Schedule(courses)\n",
    "#print(s.courses[:3])\n",
    "titles = s.title(\"computer\")\n",
    "descriptions = s.description(\"human\")\n",
    "ind_studies = s.independent_study_filter(True)\n",
    "print(titles.courses[0]['name'])\n",
    "print(\"-----\")\n",
    "print(descriptions.courses[0]['description'])\n",
    "print(\"-----\")\n",
    "print(ind_studies.courses[0]['name'] + \" - \" + str(ind_studies.courses[0]['independent_study']))"
   ]
  },
  {
   "cell_type": "code",
   "execution_count": null,
   "metadata": {},
   "outputs": [],
   "source": []
  }
 ],
 "metadata": {
  "kernelspec": {
   "display_name": "Python 3",
   "language": "python",
   "name": "python3"
  },
  "language_info": {
   "codemirror_mode": {
    "name": "ipython",
    "version": 3
   },
   "file_extension": ".py",
   "mimetype": "text/x-python",
   "name": "python",
   "nbconvert_exporter": "python",
   "pygments_lexer": "ipython3",
   "version": "3.9.1"
  }
 },
 "nbformat": 4,
 "nbformat_minor": 4
}
