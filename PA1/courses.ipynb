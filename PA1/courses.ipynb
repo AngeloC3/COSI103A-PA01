{
 "cells": [
  {
   "cell_type": "markdown",
   "metadata": {},
   "source": [
    "# Courses Demo\n",
    "This Jupyter notebook is for exploring the data set courses20-21.json\n",
    "which consists of all Brandeis courses in the 20-21 academic year (Fall20, Spr21, Sum21) \n",
    "which had at least 1 student enrolled.\n",
    "\n",
    "First we need to read the json file into a list of Python dictionaries"
   ]
  },
  {
   "cell_type": "code",
   "execution_count": 1,
   "metadata": {},
   "outputs": [
    {
     "name": "stdout",
     "output_type": "stream",
     "text": [
      "getting archived regdata from file\n"
     ]
    }
   ],
   "source": [
    "import json\n",
    "from schedule import *\n",
    "from course_search import *"
   ]
  },
  {
   "cell_type": "code",
   "execution_count": 2,
   "metadata": {},
   "outputs": [],
   "source": [
    "with open(\"courses20-21.json\",\"r\",encoding='utf-8') as jsonfile:\n",
    "    courses = json.load(jsonfile)"
   ]
  },
  {
   "cell_type": "markdown",
   "metadata": {},
   "source": [
    "## Structure of a course\n",
    "Next we look at the fields of each course dictionary and their values"
   ]
  },
  {
   "cell_type": "code",
   "execution_count": 3,
   "metadata": {},
   "outputs": [
    {
     "name": "stdout",
     "output_type": "stream",
     "text": [
      "there are 7813 courses in the dataset\n",
      "here is the data for course 1246\n"
     ]
    },
    {
     "data": {
      "text/plain": [
       "{'limit': 28,\n",
       " 'times': [{'start': 1080, 'end': 1170, 'days': ['w', 'm']}],\n",
       " 'enrolled': 4,\n",
       " 'details': 'Instruction for this course will be offered remotely. Meeting times for this course are listed in the schedule of classes (in ET).',\n",
       " 'type': 'section',\n",
       " 'status_text': 'Open',\n",
       " 'section': '1',\n",
       " 'waiting': 0,\n",
       " 'instructor': ['An', 'Huang', 'anhuang@brandeis.edu'],\n",
       " 'coinstructors': [],\n",
       " 'code': ['MATH', '223A'],\n",
       " 'subject': 'MATH',\n",
       " 'coursenum': '223A',\n",
       " 'name': 'Lie Algebras: Representation Theory',\n",
       " 'independent_study': False,\n",
       " 'term': '1203',\n",
       " 'description': \"Theorems of Engel and Lie. Semisimple Lie algebras, Cartan's criterion. Universal enveloping algebras, PBW theorem, Serre's construction. Representation theory. Other topics as time permits. Usually offered every second year.\\nAn Huang\"}"
      ]
     },
     "execution_count": 3,
     "metadata": {},
     "output_type": "execute_result"
    }
   ],
   "source": [
    "print('there are',len(courses),'courses in the dataset')\n",
    "print('here is the data for course 1246')\n",
    "courses[1246]"
   ]
  },
  {
   "cell_type": "markdown",
   "metadata": {},
   "source": [
    "## Cleaning the data\n",
    "If we want to sort courses by instructor or by code, we need to replace the lists with tuples (which are immutable lists)"
   ]
  },
  {
   "cell_type": "code",
   "execution_count": 4,
   "metadata": {},
   "outputs": [],
   "source": [
    "for course in courses:\n",
    "        course['instructor'] = tuple(course['instructor'])\n",
    "        course['coinstructors'] = tuple([tuple(f) for f in course['coinstructors']])\n",
    "        course['code']= tuple(course['code'])"
   ]
  },
  {
   "cell_type": "code",
   "execution_count": 5,
   "metadata": {},
   "outputs": [
    {
     "name": "stdout",
     "output_type": "stream",
     "text": [
      "notice that the instructor and code are tuples now\n"
     ]
    },
    {
     "data": {
      "text/plain": [
       "{'limit': 28,\n",
       " 'times': [{'start': 1080, 'end': 1170, 'days': ['w', 'm']}],\n",
       " 'enrolled': 4,\n",
       " 'details': 'Instruction for this course will be offered remotely. Meeting times for this course are listed in the schedule of classes (in ET).',\n",
       " 'type': 'section',\n",
       " 'status_text': 'Open',\n",
       " 'section': '1',\n",
       " 'waiting': 0,\n",
       " 'instructor': ('An', 'Huang', 'anhuang@brandeis.edu'),\n",
       " 'coinstructors': (),\n",
       " 'code': ('MATH', '223A'),\n",
       " 'subject': 'MATH',\n",
       " 'coursenum': '223A',\n",
       " 'name': 'Lie Algebras: Representation Theory',\n",
       " 'independent_study': False,\n",
       " 'term': '1203',\n",
       " 'description': \"Theorems of Engel and Lie. Semisimple Lie algebras, Cartan's criterion. Universal enveloping algebras, PBW theorem, Serre's construction. Representation theory. Other topics as time permits. Usually offered every second year.\\nAn Huang\"}"
      ]
     },
     "execution_count": 5,
     "metadata": {},
     "output_type": "execute_result"
    }
   ],
   "source": [
    "print('notice that the instructor and code are tuples now')\n",
    "courses[1246]"
   ]
  },
  {
   "cell_type": "markdown",
   "metadata": {},
   "source": [
    "# Which terms are represented?"
   ]
  },
  {
   "cell_type": "code",
   "execution_count": 6,
   "metadata": {},
   "outputs": [
    {
     "name": "stdout",
     "output_type": "stream",
     "text": [
      "{'1203', '1211', '1212'}\n"
     ]
    }
   ],
   "source": [
    "terms = {c['term'] for c in courses}\n",
    "print(terms)"
   ]
  },
  {
   "cell_type": "markdown",
   "metadata": {},
   "source": [
    "# What are all the subjects"
   ]
  },
  {
   "cell_type": "code",
   "execution_count": 7,
   "metadata": {},
   "outputs": [
    {
     "name": "stdout",
     "output_type": "stream",
     "text": [
      "There are 120 subjects. They are:\n",
      "{'AAAS/WGS', 'ED', 'FA', 'RUCD', 'RBOT', 'REL', 'FIN', 'ECON/FIN', 'PHYS', 'HUM', 'BCBP', 'COMP', 'BISC', 'PAX', 'BUS/FIN', 'NEUR', 'POL/WGS', 'RSEG', 'EL', 'AAPI', 'ANTH', 'FILM', 'HISP', 'BIBC', 'ECS', 'CAST', 'RECS/THA', 'NEJS', 'ESL', 'CBIO', 'AAAS', 'HIST/WGS', 'EBIO', 'HOID', 'SAS', 'JAPN', 'AAPI/HIS', 'MATH', 'AMST/MUS', 'RDFT', 'RDMD', 'LALS', 'CA', 'AMST/ENG', 'HBRW', 'POL', 'IMES', 'RBIF', 'CHIN', 'GS', 'THA', 'ENG', 'GECS', 'AMST', 'SJSP', 'FREN', 'LAT', 'SOC', 'WGS', 'ITAL', 'COSI', 'RECS', 'RIAS', 'INT', 'CLAS', 'RHIN', 'PSYC', 'MUS', 'RMGT', 'BIPH', 'BIOT', 'HIST/SOC', 'CLAS/ENG', 'PMED', 'BCHM', 'HS', 'ECON', 'HIST', 'AAS/AAPI', 'ECS/ENG', 'QR', 'EAS', 'IGS', 'RSAN', 'HS/POL', 'NPSY', 'ARBC', 'GER', 'AAPI/WGS', 'UWS', 'NBIO', 'RCOM', 'BUS/ECON', 'RIDT', 'ENVS', 'YDSH', 'IIM', 'HRNS', 'JOUR', 'HSSP', 'LING', 'GRK', 'KOR', 'MERS', 'QBIO', 'BUS', 'HUM/UWS', 'CHEM', 'RUS', 'CHSC', 'COML', 'RPJM', 'BIOL', 'ANTH/WGS', 'CLAS/NEJ', 'PHIL', 'HWL', 'LGLS', 'COMH', 'AAAS/HIS'}\n"
     ]
    }
   ],
   "source": [
    "subjects = {c['subject'] for c in courses}\n",
    "print(\"There are \" + str(len(subjects)) + \" subjects. They are:\")\n",
    "print(subjects)"
   ]
  },
  {
   "cell_type": "markdown",
   "metadata": {},
   "source": [
    "# 5.a: How many instructors taught at Brandeis last year?"
   ]
  },
  {
   "cell_type": "code",
   "execution_count": 8,
   "metadata": {},
   "outputs": [
    {
     "name": "stdout",
     "output_type": "stream",
     "text": [
      "There are 904 instuctors.\n"
     ]
    }
   ],
   "source": [
    "# I'm not sure which terms are considered to be last year, so this includes all terms\n",
    "instructors = {c['instructor'] for c in courses}\n",
    "print(\"There are \" + str(len(instructors)) + \" instuctors.\")"
   ]
  },
  {
   "cell_type": "code",
   "execution_count": 9,
   "metadata": {},
   "outputs": [
    {
     "name": "stdout",
     "output_type": "stream",
     "text": [
      "There are 652 instuctors that taught a class with at least 10 students.\n"
     ]
    }
   ],
   "source": [
    "instructors = {c['instructor'] for c in courses if c['enrolled']>=10}\n",
    "print(\"There are \" + str(len(instructors)) + \" instuctors that taught a class with at least 10 students.\")"
   ]
  },
  {
   "cell_type": "markdown",
   "metadata": {},
   "source": [
    "# What are the 5 largest course sections?"
   ]
  },
  {
   "cell_type": "code",
   "execution_count": 10,
   "metadata": {},
   "outputs": [
    {
     "data": {
      "text/plain": [
       "[(784, 'Introduction to Navigating Health and Safety'),\n",
       " (186, 'Organic Chemistry I'),\n",
       " (186, 'Physiology'),\n",
       " (181, 'Cells and Organisms'),\n",
       " (180, 'Organic Chemistry II')]"
      ]
     },
     "execution_count": 10,
     "metadata": {},
     "output_type": "execute_result"
    }
   ],
   "source": [
    "largest_courses = sorted(courses, key = lambda course: course['enrolled'], reverse=True)\n",
    "[(course['enrolled'], course['name']) for course in largest_courses[:5]]"
   ]
  },
  {
   "cell_type": "markdown",
   "metadata": {},
   "source": [
    "# 5.b: What is the total number of students taking COSI courses last year?"
   ]
  },
  {
   "cell_type": "code",
   "execution_count": 11,
   "metadata": {},
   "outputs": [
    {
     "name": "stdout",
     "output_type": "stream",
     "text": [
      "There were 2223 students who took COSI courses.\n"
     ]
    }
   ],
   "source": [
    "cosi_students=[course['enrolled'] for course in courses if course['subject']==\"COSI\"]\n",
    "print(\"There were \"+str(sum(cosi_students))+\" students who took COSI courses.\")"
   ]
  },
  {
   "cell_type": "markdown",
   "metadata": {},
   "source": [
    "# 5.c: What was the median size of a COSI course last year (counting only those courses with at least 10 students)"
   ]
  },
  {
   "cell_type": "code",
   "execution_count": 12,
   "metadata": {},
   "outputs": [
    {
     "name": "stdout",
     "output_type": "stream",
     "text": [
      "The median size of a COSI course last year was 37.\n"
     ]
    }
   ],
   "source": [
    "cosi_enrolled=sorted([course['enrolled'] for course in courses if course['subject']==\"COSI\" and course['enrolled']>=10])\n",
    "median = (cosi_enrolled[len(cosi_enrolled)//2-1]/2.0+cosi_enrolled[len(cosi_enrolled)//2]/2.0, (cosi_enrolled)[len(cosi_enrolled)//2])[len(cosi_enrolled) % 2]\n",
    "print(\"The median size of a COSI course last year was \" + str(median) + \".\")"
   ]
  },
  {
   "cell_type": "markdown",
   "metadata": {},
   "source": [
    "# 5.d: Create a list of tuples (E,S) where S is a subject and E is the number of students enrolled in courses in that subject, sort it and print the top 10. This shows the top 10 subjects in terms of number of students taught.\n"
   ]
  },
  {
   "cell_type": "code",
   "execution_count": 13,
   "metadata": {},
   "outputs": [
    {
     "name": "stdout",
     "output_type": "stream",
     "text": [
      "Top 10 subjects in terms of number of students taught:\n",
      " ['HS', 'BIOL', 'BUS', 'HWL', 'CHEM', 'ECON', 'COSI', 'MATH', 'PSYC', 'ANTH'] \n",
      "---------\n",
      " More info (# of students,subject):\n",
      " [(5318, 'HS'), (3085, 'BIOL'), (2766, 'BUS'), (2734, 'HWL'), (2322, 'CHEM'), (2315, 'ECON'), (2223, 'COSI'), (1785, 'MATH'), (1704, 'PSYC'), (1144, 'ANTH')]\n"
     ]
    }
   ],
   "source": [
    "def num_enrollments(subject):\n",
    "    enroll = [course['enrolled'] for course in courses if course['subject']==subject]\n",
    "    return sum(enroll)\n",
    "\n",
    "subject_enrollments = sorted([(num_enrollments(subject),subject) for subject in subjects],reverse=True)[:10]\n",
    "print(\"Top 10 subjects in terms of number of students taught:\\n\",[sub[1] for sub in subject_enrollments],\"\\n---------\\n\",\"More info (# of students,subject):\\n\", subject_enrollments)"
   ]
  },
  {
   "cell_type": "markdown",
   "metadata": {
    "tags": []
   },
   "source": [
    "# 5.e: Do the same as in (d) but print the top 10 subjects in terms of number of courses offered"
   ]
  },
  {
   "cell_type": "code",
   "execution_count": 14,
   "metadata": {},
   "outputs": [
    {
     "name": "stdout",
     "output_type": "stream",
     "text": [
      "Top 10 subjects in terms of number of courses offered:\n",
      " ['BIOL', 'HIST', 'PSYC', 'NEUR', 'BCHM', 'PHYS', 'HS', 'COSI', 'MUS', 'ENG'] \n",
      "---------\n",
      " More info (# of courses,subject):\n",
      " [(613, 'BIOL'), (498, 'HIST'), (417, 'PSYC'), (403, 'NEUR'), (296, 'BCHM'), (288, 'PHYS'), (274, 'HS'), (272, 'COSI'), (266, 'MUS'), (265, 'ENG')]\n"
     ]
    }
   ],
   "source": [
    "def courses_offered(subject):\n",
    "    return len([c for c in courses if c['subject']==subject])\n",
    "subject_courses = sorted([(courses_offered(subject),subject) for subject in subjects],reverse=True)[:10]\n",
    "print(\"Top 10 subjects in terms of number of courses offered:\\n\",[sub[1] for sub in subject_courses],\"\\n---------\\n\",\"More info (# of courses,subject):\\n\", subject_courses)\n"
   ]
  },
  {
   "cell_type": "markdown",
   "metadata": {},
   "source": [
    "# 5.f: Do the same as (d) but print the top 10 subjects in terms of number of faculty teaching courses in that subject"
   ]
  },
  {
   "cell_type": "code",
   "execution_count": 15,
   "metadata": {},
   "outputs": [
    {
     "name": "stdout",
     "output_type": "stream",
     "text": [
      "Top 10 subjects in terms of number of faculty teaching courses:\n",
      " ['HS', 'BIOL', 'ECON', 'BCHM', 'HIST', 'BUS', 'BCBP', 'HWL', 'NEJS', 'MATH'] \n",
      "---------\n",
      " More info (# of faculty,subject):\n",
      " [(87, 'HS'), (67, 'BIOL'), (52, 'ECON'), (49, 'BCHM'), (47, 'HIST'), (47, 'BUS'), (46, 'BCBP'), (42, 'HWL'), (37, 'NEJS'), (37, 'MATH')]\n"
     ]
    }
   ],
   "source": [
    "def num_faculty(subject):\n",
    "    return len({course['instructor'] for course in courses if course['subject']==subject})\n",
    "faculty_subject = sorted([(num_faculty(subject),subject) for subject in subjects],reverse=True)[:10]\n",
    "print(\"Top 10 subjects in terms of number of faculty teaching courses:\\n\",[sub[1] for sub in faculty_subject],\"\\n---------\\n\",\"More info (# of faculty,subject):\\n\", faculty_subject)\n",
    "# print(sorted(faculty_subject,reverse=True)[:10])"
   ]
  },
  {
   "cell_type": "markdown",
   "metadata": {},
   "source": [
    "# 5.g: List the top 20 faculty in terms of number of students they taught"
   ]
  },
  {
   "cell_type": "code",
   "execution_count": 16,
   "metadata": {},
   "outputs": [
    {
     "name": "stdout",
     "output_type": "stream",
     "text": [
      "Top 20 faculty in terms of number of students they taught:\n",
      " [('Leah', 'Berkenwald', 'leahb@brandeis.edu'), ('Stephanie', 'Murray', 'murray@brandeis.edu'), ('Maria', 'de Boef Miara', 'mmiara@brandeis.edu'), ('Milos', 'Dolnik', 'dolnik@brandeis.edu'), ('Timothy J', 'Hickey', 'tjhickey@brandeis.edu'), ('Bryan', 'Ingoglia', 'ingoglia@brandeis.edu'), ('Claudia', 'Novack', 'novack@brandeis.edu'), ('Antonella', 'DiLillo', 'dilant@brandeis.edu'), ('Rachel V.E.', 'Woodruff', 'woodruff@brandeis.edu'), ('Daniel', 'Breen', 'dbreen91@brandeis.edu')] \n",
      "---------\n",
      " More info (# of enrollment,faculty):\n",
      " [(926, ('Leah', 'Berkenwald', 'leahb@brandeis.edu')), (515, ('Stephanie', 'Murray', 'murray@brandeis.edu')), (450, ('Maria', 'de Boef Miara', 'mmiara@brandeis.edu')), (403, ('Milos', 'Dolnik', 'dolnik@brandeis.edu')), (401, ('Timothy J', 'Hickey', 'tjhickey@brandeis.edu')), (388, ('Bryan', 'Ingoglia', 'ingoglia@brandeis.edu')), (355, ('Claudia', 'Novack', 'novack@brandeis.edu')), (341, ('Antonella', 'DiLillo', 'dilant@brandeis.edu')), (337, ('Rachel V.E.', 'Woodruff', 'woodruff@brandeis.edu')), (327, ('Daniel', 'Breen', 'dbreen91@brandeis.edu'))]\n"
     ]
    }
   ],
   "source": [
    "def students_taught(instructor):\n",
    "    return sum({course['enrolled'] for course in courses if course['instructor']==instructor})\n",
    "top_facu=sorted([(students_taught(instructor),instructor) for instructor in instructors],reverse=True)[:10]\n",
    "print(\"Top 20 faculty in terms of number of students they taught:\\n\",[sub[1] for sub in top_facu],\"\\n---------\\n\",\"More info (# of enrollment,faculty):\\n\",top_facu)"
   ]
  },
  {
   "cell_type": "markdown",
   "metadata": {},
   "source": [
    "# 5.h: List the top 20 courses in terms of number of students taking that course across semesters and sections"
   ]
  },
  {
   "cell_type": "code",
   "execution_count": 17,
   "metadata": {},
   "outputs": [
    {
     "name": "stdout",
     "output_type": "stream",
     "text": [
      "1. Navigating Health and Safety - 940\n",
      "2. Introduction to Navigating Health and Safety - 879\n",
      "3. General Biology Laboratory - 536\n",
      "4. Dissertation Research - 381\n",
      "5. Genetics and Genomics - 358\n",
      "6. Introduction to Problem Solving in Python - 343\n",
      "7. Introduction to Psychology - 336\n",
      "8. Cells and Organisms - 287\n",
      "9. Techniques of Calculus (a) - 280\n",
      "10. Financial Accounting - 247\n",
      "11. Organic Chemistry Laboratory I - 245\n",
      "12. Organic Chemistry Laboratory II - 239\n",
      "13. Organic Chemistry I - 236\n",
      "14. Statistics - 231\n",
      "15. Organic Chemistry II - 226\n",
      "16. Advanced Programming Techniques in Java - 225\n",
      "17. General Chemistry Laboratory I - 208\n",
      "18. Senior Research - 207\n",
      "19. Introduction to Microeconomics - 207\n",
      "20. Applied Linear Algebra - 204\n"
     ]
    }
   ],
   "source": [
    "tops = {}\n",
    "for c in courses:\n",
    "    name = c['name']\n",
    "    enrolled = c['enrolled']\n",
    "    if name in tops:\n",
    "        tops[name] = tops[name] + enrolled\n",
    "    else:\n",
    "        tops[name] = enrolled\n",
    "sorted_tops = [(k,v) for k, v in sorted(tops.items(), key=lambda x: x[1], reverse=True)]\n",
    "count = 1\n",
    "for course in sorted_tops:\n",
    "    if (count > 20):\n",
    "        break\n",
    "    print(str(count) + \". \" + course[0] + \" - \" + str(course[1]))\n",
    "    count += 1"
   ]
  },
  {
   "cell_type": "markdown",
   "metadata": {},
   "source": [
    "# 5.i Creative Questions"
   ]
  },
  {
   "cell_type": "markdown",
   "metadata": {},
   "source": [
    "Angelo's question - What is the average amount of students in a COSI courses that have at least 1 student?"
   ]
  },
  {
   "cell_type": "code",
   "execution_count": 18,
   "metadata": {},
   "outputs": [
    {
     "name": "stdout",
     "output_type": "stream",
     "text": [
      "The average amount of students in a COSI course that has students is 18!\n"
     ]
    }
   ],
   "source": [
    "cosi_enrollments = [c['enrolled'] for c in courses if c['subject'] == \"COSI\" if c['enrolled'] > 0]\n",
    "sum3 = 0\n",
    "for val in cosi_enrollments:\n",
    "    sum3 += val\n",
    "avg = sum3 // len(cosi_enrollments)\n",
    "print(\"The average amount of students in a COSI course that has students is \" + str(avg) + \"!\")"
   ]
  },
  {
   "cell_type": "markdown",
   "metadata": {},
   "source": [
    "\n",
    "Su Lei's question - What percentage of available courses required instructor's signature to enroll?"
   ]
  },
  {
   "cell_type": "code",
   "execution_count": 19,
   "metadata": {},
   "outputs": [
    {
     "name": "stdout",
     "output_type": "stream",
     "text": [
      "0.38 % of the courses required instructor's signature.\n"
     ]
    }
   ],
   "source": [
    "sign_required=[course for course in courses if \"Instructor's Signature Required\".lower() in course['details'].lower()]\n",
    "percentage = len(sign_required)/len(courses)\n",
    "print(\"{:.2f}\".format(percentage),\"% of the courses required instructor's signature.\")"
   ]
  },
  {
   "cell_type": "markdown",
   "metadata": {},
   "source": [
    "Josh Liu: Which classes have descriptions of which every word is in alphabetical order?"
   ]
  },
  {
   "cell_type": "code",
   "execution_count": 20,
   "metadata": {},
   "outputs": [
    {
     "name": "stdout",
     "output_type": "stream",
     "text": [
      "There are 53 classes with alphabetically ordered descriptions!\n",
      "... many of them independent studies with a very short description. Oh well, it technically fits.\n"
     ]
    }
   ],
   "source": [
    "alphabetical_classes = []\n",
    "for course in courses:\n",
    "    isAlphabetical = True\n",
    "    letter = \"a\"\n",
    "    word_array = course['description'].split()\n",
    "    for word in word_array:\n",
    "        word = word.lower()\n",
    "        if word[0] < letter:\n",
    "            isAlphabetical = False\n",
    "        else:\n",
    "            letter = word[0]\n",
    "    if isAlphabetical and len(word_array) > 1:\n",
    "        alphabetical_classes.append(course)\n",
    "print(\"There are \" + str(len(alphabetical_classes)) + \" classes with alphabetically ordered descriptions!\")\n",
    "print(\"... many of them independent studies with a very short description. Oh well, it technically fits.\")"
   ]
  },
  {
   "cell_type": "markdown",
   "metadata": {},
   "source": [
    "# 6.a,b,c: Showing the title, description and custom filter"
   ]
  },
  {
   "cell_type": "code",
   "execution_count": 21,
   "metadata": {},
   "outputs": [
    {
     "ename": "IndexError",
     "evalue": "list index out of range",
     "output_type": "error",
     "traceback": [
      "\u001b[0;31m---------------------------------------------------------------------------\u001b[0m",
      "\u001b[0;31mIndexError\u001b[0m                                Traceback (most recent call last)",
      "\u001b[0;32m/var/folders/4y/4kpymxx51m71b5c1l36lg_pr0000gp/T/ipykernel_46374/938266537.py\u001b[0m in \u001b[0;36m<module>\u001b[0;34m\u001b[0m\n\u001b[1;32m      4\u001b[0m \u001b[0mdescriptions\u001b[0m \u001b[0;34m=\u001b[0m \u001b[0ms\u001b[0m\u001b[0;34m.\u001b[0m\u001b[0mdescription\u001b[0m\u001b[0;34m(\u001b[0m\u001b[0;34m\"human\"\u001b[0m\u001b[0;34m)\u001b[0m\u001b[0;34m\u001b[0m\u001b[0;34m\u001b[0m\u001b[0m\n\u001b[1;32m      5\u001b[0m \u001b[0mind_studies\u001b[0m \u001b[0;34m=\u001b[0m \u001b[0ms\u001b[0m\u001b[0;34m.\u001b[0m\u001b[0mindependent_study_filter\u001b[0m\u001b[0;34m(\u001b[0m\u001b[0;32mTrue\u001b[0m\u001b[0;34m)\u001b[0m\u001b[0;34m\u001b[0m\u001b[0;34m\u001b[0m\u001b[0m\n\u001b[0;32m----> 6\u001b[0;31m \u001b[0mprint\u001b[0m\u001b[0;34m(\u001b[0m\u001b[0mtitles\u001b[0m\u001b[0;34m.\u001b[0m\u001b[0mcourses\u001b[0m\u001b[0;34m[\u001b[0m\u001b[0;36m0\u001b[0m\u001b[0;34m]\u001b[0m\u001b[0;34m[\u001b[0m\u001b[0;34m'name'\u001b[0m\u001b[0;34m]\u001b[0m\u001b[0;34m)\u001b[0m\u001b[0;34m\u001b[0m\u001b[0;34m\u001b[0m\u001b[0m\n\u001b[0m\u001b[1;32m      7\u001b[0m \u001b[0mprint\u001b[0m\u001b[0;34m(\u001b[0m\u001b[0;34m\"-----\"\u001b[0m\u001b[0;34m)\u001b[0m\u001b[0;34m\u001b[0m\u001b[0;34m\u001b[0m\u001b[0m\n\u001b[1;32m      8\u001b[0m \u001b[0mprint\u001b[0m\u001b[0;34m(\u001b[0m\u001b[0mdescriptions\u001b[0m\u001b[0;34m.\u001b[0m\u001b[0mcourses\u001b[0m\u001b[0;34m[\u001b[0m\u001b[0;36m0\u001b[0m\u001b[0;34m]\u001b[0m\u001b[0;34m[\u001b[0m\u001b[0;34m'description'\u001b[0m\u001b[0;34m]\u001b[0m\u001b[0;34m)\u001b[0m\u001b[0;34m\u001b[0m\u001b[0;34m\u001b[0m\u001b[0m\n",
      "\u001b[0;31mIndexError\u001b[0m: list index out of range"
     ]
    }
   ],
   "source": [
    "s = Schedule(courses)\n",
    "#print(s.courses[:3])\n",
    "titles = s.title(\"computer\")\n",
    "descriptions = s.description(\"human\")\n",
    "ind_studies = s.independent_study_filter(True)\n",
    "print(titles.courses[0]['name'])\n",
    "print(\"-----\")\n",
    "print(descriptions.courses[0]['description'])\n",
    "print(\"-----\")\n",
    "print(ind_studies.courses[0]['name'] + \" - \" + str(ind_studies.courses[0]['independent_study']))"
   ]
  },
  {
   "cell_type": "code",
   "execution_count": null,
   "metadata": {},
   "outputs": [],
   "source": []
  }
 ],
 "metadata": {
  "interpreter": {
   "hash": "669f5abd92f1a410df15b0643b9f42360e277a412fc08ae8bc7d7911cf7e8f3d"
  },
  "kernelspec": {
   "display_name": "Python 3 (ipykernel)",
   "language": "python",
   "name": "python3"
  },
  "language_info": {
   "codemirror_mode": {
    "name": "ipython",
    "version": 3
   },
   "file_extension": ".py",
   "mimetype": "text/x-python",
   "name": "python",
   "nbconvert_exporter": "python",
   "pygments_lexer": "ipython3",
   "version": "3.9.7"
  }
 },
 "nbformat": 4,
 "nbformat_minor": 4
}
