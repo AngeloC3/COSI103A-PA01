{
 "cells": [
  {
   "cell_type": "markdown",
   "metadata": {},
   "source": [
    "# Courses Demo\n",
    "This Jupyter notebook is for exploring the data set courses20-21.json\n",
    "which consists of all Brandeis courses in the 20-21 academic year (Fall20, Spr21, Sum21) \n",
    "which had at least 1 student enrolled.\n",
    "\n",
    "First we need to read the json file into a list of Python dictionaries"
   ]
  },
  {
   "cell_type": "code",
   "execution_count": 1,
   "metadata": {},
   "outputs": [
    {
     "name": "stdout",
     "output_type": "stream",
     "text": [
      "getting archived regdata from file\n"
     ]
    }
   ],
   "source": [
    "import json\n",
    "from schedule import *\n",
    "from course_search import *"
   ]
  },
  {
   "cell_type": "code",
   "execution_count": 2,
   "metadata": {},
   "outputs": [],
   "source": [
    "with open(\"courses20-21.json\",\"r\",encoding='utf-8') as jsonfile:\n",
    "    courses = json.load(jsonfile)"
   ]
  },
  {
   "cell_type": "markdown",
   "metadata": {},
   "source": [
    "## Structure of a course\n",
    "Next we look at the fields of each course dictionary and their values"
   ]
  },
  {
   "cell_type": "code",
   "execution_count": 3,
   "metadata": {},
   "outputs": [
    {
     "name": "stdout",
     "output_type": "stream",
     "text": [
      "there are 7813 courses in the dataset\n",
      "here is the data for course 1246\n"
     ]
    },
    {
     "data": {
      "text/plain": [
       "{'limit': 28,\n",
       " 'times': [{'start': 1080, 'end': 1170, 'days': ['w', 'm']}],\n",
       " 'enrolled': 4,\n",
       " 'details': 'Instruction for this course will be offered remotely. Meeting times for this course are listed in the schedule of classes (in ET).',\n",
       " 'type': 'section',\n",
       " 'status_text': 'Open',\n",
       " 'section': '1',\n",
       " 'waiting': 0,\n",
       " 'instructor': ['An', 'Huang', 'anhuang@brandeis.edu'],\n",
       " 'coinstructors': [],\n",
       " 'code': ['MATH', '223A'],\n",
       " 'subject': 'MATH',\n",
       " 'coursenum': '223A',\n",
       " 'name': 'Lie Algebras: Representation Theory',\n",
       " 'independent_study': False,\n",
       " 'term': '1203',\n",
       " 'description': \"Theorems of Engel and Lie. Semisimple Lie algebras, Cartan's criterion. Universal enveloping algebras, PBW theorem, Serre's construction. Representation theory. Other topics as time permits. Usually offered every second year.\\nAn Huang\"}"
      ]
     },
     "execution_count": 3,
     "metadata": {},
     "output_type": "execute_result"
    }
   ],
   "source": [
    "print('there are',len(courses),'courses in the dataset')\n",
    "print('here is the data for course 1246')\n",
    "courses[1246]"
   ]
  },
  {
   "cell_type": "markdown",
   "metadata": {},
   "source": [
    "## Cleaning the data\n",
    "If we want to sort courses by instructor or by code, we need to replace the lists with tuples (which are immutable lists)"
   ]
  },
  {
   "cell_type": "code",
   "execution_count": 4,
   "metadata": {},
   "outputs": [],
   "source": [
    "for course in courses:\n",
    "        course['instructor'] = tuple(course['instructor'])\n",
    "        course['coinstructors'] = tuple([tuple(f) for f in course['coinstructors']])\n",
    "        course['code']= tuple(course['code'])"
   ]
  },
  {
   "cell_type": "code",
   "execution_count": 5,
   "metadata": {},
   "outputs": [
    {
     "name": "stdout",
     "output_type": "stream",
     "text": [
      "notice that the instructor and code are tuples now\n"
     ]
    },
    {
     "data": {
      "text/plain": [
       "{'limit': 28,\n",
       " 'times': [{'start': 1080, 'end': 1170, 'days': ['w', 'm']}],\n",
       " 'enrolled': 4,\n",
       " 'details': 'Instruction for this course will be offered remotely. Meeting times for this course are listed in the schedule of classes (in ET).',\n",
       " 'type': 'section',\n",
       " 'status_text': 'Open',\n",
       " 'section': '1',\n",
       " 'waiting': 0,\n",
       " 'instructor': ('An', 'Huang', 'anhuang@brandeis.edu'),\n",
       " 'coinstructors': (),\n",
       " 'code': ('MATH', '223A'),\n",
       " 'subject': 'MATH',\n",
       " 'coursenum': '223A',\n",
       " 'name': 'Lie Algebras: Representation Theory',\n",
       " 'independent_study': False,\n",
       " 'term': '1203',\n",
       " 'description': \"Theorems of Engel and Lie. Semisimple Lie algebras, Cartan's criterion. Universal enveloping algebras, PBW theorem, Serre's construction. Representation theory. Other topics as time permits. Usually offered every second year.\\nAn Huang\"}"
      ]
     },
     "execution_count": 5,
     "metadata": {},
     "output_type": "execute_result"
    }
   ],
   "source": [
    "print('notice that the instructor and code are tuples now')\n",
    "courses[1246]"
   ]
  },
  {
   "cell_type": "markdown",
   "metadata": {},
   "source": [
    "# Which terms are represented?"
   ]
  },
  {
   "cell_type": "code",
   "execution_count": 6,
   "metadata": {},
   "outputs": [
    {
     "name": "stdout",
     "output_type": "stream",
     "text": [
      "{'1211', '1212', '1203'}\n"
     ]
    }
   ],
   "source": [
    "terms = {c['term'] for c in courses}\n",
    "print(terms)"
   ]
  },
  {
   "cell_type": "markdown",
   "metadata": {},
   "source": [
    "# What are all the subjects"
   ]
  },
  {
   "cell_type": "code",
   "execution_count": 7,
   "metadata": {},
   "outputs": [
    {
     "name": "stdout",
     "output_type": "stream",
     "text": [
      "There are 120 subjects. They are:\n",
      "{'ECON', 'THA', 'PAX', 'CLAS/NEJ', 'ENG', 'YDSH', 'AAPI/HIS', 'HS', 'BIOL', 'JAPN', 'NPSY', 'CA', 'HUM/UWS', 'HS/POL', 'QR', 'POL/WGS', 'HUM', 'GER', 'RHIN', 'IIM', 'LAT', 'MATH', 'MERS', 'BUS/FIN', 'QBIO', 'RECS/THA', 'RDFT', 'LGLS', 'CHSC', 'WGS', 'RSAN', 'ECON/FIN', 'UWS', 'BCBP', 'INT', 'HSSP', 'FILM', 'BCHM', 'SAS', 'PHYS', 'ECS/ENG', 'BUS', 'REL', 'NEUR', 'AMST/MUS', 'BIOT', 'RIDT', 'RMGT', 'HIST', 'ED', 'CAST', 'RBOT', 'SJSP', 'AAPI', 'POL', 'CHEM', 'COSI', 'JOUR', 'HIST/SOC', 'ENVS', 'IGS', 'RDMD', 'ITAL', 'ANTH', 'BIPH', 'RUS', 'RUCD', 'FIN', 'GS', 'NBIO', 'AAPI/WGS', 'AAAS/WGS', 'BUS/ECON', 'RIAS', 'ANTH/WGS', 'MUS', 'GECS', 'AAAS', 'HISP', 'AAAS/HIS', 'HBRW', 'RPJM', 'EL', 'HIST/WGS', 'AMST', 'EBIO', 'RBIF', 'LALS', 'ESL', 'CBIO', 'HRNS', 'KOR', 'RSEG', 'GRK', 'FA', 'AMST/ENG', 'RECS', 'AAS/AAPI', 'SOC', 'HWL', 'CLAS/ENG', 'BISC', 'CLAS', 'PHIL', 'CHIN', 'COML', 'ARBC', 'LING', 'EAS', 'PSYC', 'RCOM', 'IMES', 'COMP', 'COMH', 'HOID', 'ECS', 'PMED', 'NEJS', 'FREN', 'BIBC'}\n"
     ]
    }
   ],
   "source": [
    "subjects = {c['subject'] for c in courses}\n",
    "print(\"There are \" + str(len(subjects)) + \" subjects. They are:\")\n",
    "print(subjects)"
   ]
  },
  {
   "cell_type": "markdown",
   "metadata": {},
   "source": [
    "# 5.a: How many instructors taught at Brandeis last year?"
   ]
  },
  {
   "cell_type": "code",
   "execution_count": 8,
   "metadata": {},
   "outputs": [
    {
     "name": "stdout",
     "output_type": "stream",
     "text": [
      "There are 904 instuctors.\n"
     ]
    }
   ],
   "source": [
    "# I'm not sure which terms are considered to be last year, so this includes all terms\n",
    "instructors = {c['instructor'] for c in courses}\n",
    "print(\"There are \" + str(len(instructors)) + \" instuctors.\")"
   ]
  },
  {
   "cell_type": "code",
   "execution_count": 9,
   "metadata": {},
   "outputs": [
    {
     "name": "stdout",
     "output_type": "stream",
     "text": [
      "There are 652 instuctors that taught a class with at least 10 students.\n"
     ]
    }
   ],
   "source": [
    "instructors = {c['instructor'] for c in courses if c['enrolled']>=10}\n",
    "print(\"There are \" + str(len(instructors)) + \" instuctors that taught a class with at least 10 students.\")"
   ]
  },
  {
   "cell_type": "markdown",
   "metadata": {},
   "source": [
    "# What are the 5 largest course sections?"
   ]
  },
  {
   "cell_type": "code",
   "execution_count": 10,
   "metadata": {},
   "outputs": [
    {
     "data": {
      "text/plain": [
       "[(784, 'Introduction to Navigating Health and Safety'),\n",
       " (186, 'Organic Chemistry I'),\n",
       " (186, 'Physiology'),\n",
       " (181, 'Cells and Organisms'),\n",
       " (180, 'Organic Chemistry II')]"
      ]
     },
     "execution_count": 10,
     "metadata": {},
     "output_type": "execute_result"
    }
   ],
   "source": [
    "largest_courses = sorted(courses, key = lambda course: course['enrolled'], reverse=True)\n",
    "[(course['enrolled'], course['name']) for course in largest_courses[:5]]"
   ]
  },
  {
   "cell_type": "markdown",
   "metadata": {},
   "source": [
    "# 5.b: What is the total number of students taking COSI courses last year?"
   ]
  },
  {
   "cell_type": "code",
   "execution_count": 11,
   "metadata": {},
   "outputs": [
    {
     "name": "stdout",
     "output_type": "stream",
     "text": [
      "There were 2223 students who took COSI courses.\n"
     ]
    }
   ],
   "source": [
    "cosi_students=[course['enrolled'] for course in courses if course['subject']==\"COSI\"]\n",
    "print(\"There were \"+str(sum(cosi_students))+\" students who took COSI courses.\")"
   ]
  },
  {
   "cell_type": "markdown",
   "metadata": {},
   "source": [
    "# 5.c: What was the median size of a COSI course last year (counting only those courses with at least 10 students)"
   ]
  },
  {
   "cell_type": "code",
   "execution_count": 12,
   "metadata": {},
   "outputs": [
    {
     "name": "stdout",
     "output_type": "stream",
     "text": [
      "The median size of a COSI course last year was 37.\n"
     ]
    }
   ],
   "source": [
    "cosi_enrolled=sorted([course['enrolled'] for course in courses if course['subject']==\"COSI\" and course['enrolled']>=10])\n",
    "median = (cosi_enrolled[len(cosi_enrolled)//2-1]/2.0+cosi_enrolled[len(cosi_enrolled)//2]/2.0, (cosi_enrolled)[len(cosi_enrolled)//2])[len(cosi_enrolled) % 2]\n",
    "print(\"The median size of a COSI course last year was \" + str(median) + \".\")"
   ]
  },
  {
   "cell_type": "markdown",
   "metadata": {},
   "source": [
    "# 5.d: Create a list of tuples (E,S) where S is a subject and E is the number of students enrolled in courses in that subject, sort it and print the top 10. This shows the top 10 subjects in terms of number of students taught.\n"
   ]
  },
  {
   "cell_type": "code",
   "execution_count": 13,
   "metadata": {},
   "outputs": [
    {
     "name": "stdout",
     "output_type": "stream",
     "text": [
      "Top 10 subjects in terms of number of students taught:\n",
      " ['HS', 'BIOL', 'BUS', 'HWL', 'CHEM', 'ECON', 'COSI', 'MATH', 'PSYC', 'ANTH'] \n",
      "---------\n",
      " More info (# of students,subject):\n",
      " [(5318, 'HS'), (3085, 'BIOL'), (2766, 'BUS'), (2734, 'HWL'), (2322, 'CHEM'), (2315, 'ECON'), (2223, 'COSI'), (1785, 'MATH'), (1704, 'PSYC'), (1144, 'ANTH')]\n"
     ]
    }
   ],
   "source": [
    "def num_enrollments(subject):\n",
    "    enroll = [course['enrolled'] for course in courses if course['subject']==subject]\n",
    "    return sum(enroll)\n",
    "\n",
    "subject_enrollments = sorted([(num_enrollments(subject),subject) for subject in subjects],reverse=True)[:10]\n",
    "print(\"Top 10 subjects in terms of number of students taught:\\n\",[sub[1] for sub in subject_enrollments],\"\\n---------\\n\",\"More info (# of students,subject):\\n\", subject_enrollments)"
   ]
  },
  {
   "cell_type": "markdown",
   "metadata": {
    "tags": []
   },
   "source": [
    "# 5.e: Do the same as in (d) but print the top 10 subjects in terms of number of courses offered"
   ]
  },
  {
   "cell_type": "code",
   "execution_count": 14,
   "metadata": {},
   "outputs": [
    {
     "name": "stdout",
     "output_type": "stream",
     "text": [
      "Top 10 subjects in terms of number of courses offered:\n",
      " ['BIOL', 'HIST', 'PSYC', 'NEUR', 'BCHM', 'PHYS', 'HS', 'COSI', 'MUS', 'ENG'] \n",
      "---------\n",
      " More info (# of courses,subject):\n",
      " [(613, 'BIOL'), (498, 'HIST'), (417, 'PSYC'), (403, 'NEUR'), (296, 'BCHM'), (288, 'PHYS'), (274, 'HS'), (272, 'COSI'), (266, 'MUS'), (265, 'ENG')]\n"
     ]
    }
   ],
   "source": [
    "def courses_offered(subject):\n",
    "    return len([c for c in courses if c['subject']==subject])\n",
    "subject_courses = sorted([(courses_offered(subject),subject) for subject in subjects],reverse=True)[:10]\n",
    "print(\"Top 10 subjects in terms of number of courses offered:\\n\",[sub[1] for sub in subject_courses],\"\\n---------\\n\",\"More info (# of courses,subject):\\n\", subject_courses)\n"
   ]
  },
  {
   "cell_type": "markdown",
   "metadata": {},
   "source": [
    "# 5.f: Do the same as (d) but print the top 10 subjects in terms of number of faculty teaching courses in that subject"
   ]
  },
  {
   "cell_type": "code",
   "execution_count": 15,
   "metadata": {},
   "outputs": [
    {
     "name": "stdout",
     "output_type": "stream",
     "text": [
      "Top 10 subjects in terms of number of faculty teaching courses:\n",
      " ['HS', 'BIOL', 'ECON', 'BCHM', 'HIST', 'BUS', 'BCBP', 'HWL', 'NEJS', 'MATH'] \n",
      "---------\n",
      " More info (# of faculty,subject):\n",
      " [(87, 'HS'), (67, 'BIOL'), (52, 'ECON'), (49, 'BCHM'), (47, 'HIST'), (47, 'BUS'), (46, 'BCBP'), (42, 'HWL'), (37, 'NEJS'), (37, 'MATH')]\n"
     ]
    }
   ],
   "source": [
    "def num_faculty(subject):\n",
    "    return len({course['instructor'] for course in courses if course['subject']==subject})\n",
    "faculty_subject = sorted([(num_faculty(subject),subject) for subject in subjects],reverse=True)[:10]\n",
    "print(\"Top 10 subjects in terms of number of faculty teaching courses:\\n\",[sub[1] for sub in faculty_subject],\"\\n---------\\n\",\"More info (# of faculty,subject):\\n\", faculty_subject)\n",
    "# print(sorted(faculty_subject,reverse=True)[:10])"
   ]
  },
  {
   "cell_type": "markdown",
   "metadata": {},
   "source": [
    "# 5.g: List the top 20 faculty in terms of number of students they taught"
   ]
  },
  {
   "cell_type": "code",
   "execution_count": 16,
   "metadata": {},
   "outputs": [
    {
     "name": "stdout",
     "output_type": "stream",
     "text": [
      "Top 20 faculty in terms of number of students they taught:\n",
      " [('Leah', 'Berkenwald', 'leahb@brandeis.edu'), ('Stephanie', 'Murray', 'murray@brandeis.edu'), ('Maria', 'de Boef Miara', 'mmiara@brandeis.edu'), ('Milos', 'Dolnik', 'dolnik@brandeis.edu'), ('Timothy J', 'Hickey', 'tjhickey@brandeis.edu'), ('Bryan', 'Ingoglia', 'ingoglia@brandeis.edu'), ('Claudia', 'Novack', 'novack@brandeis.edu'), ('Antonella', 'DiLillo', 'dilant@brandeis.edu'), ('Rachel V.E.', 'Woodruff', 'woodruff@brandeis.edu'), ('Daniel', 'Breen', 'dbreen91@brandeis.edu')] \n",
      "---------\n",
      " More info (# of enrollment,faculty):\n",
      " [(926, ('Leah', 'Berkenwald', 'leahb@brandeis.edu')), (515, ('Stephanie', 'Murray', 'murray@brandeis.edu')), (450, ('Maria', 'de Boef Miara', 'mmiara@brandeis.edu')), (403, ('Milos', 'Dolnik', 'dolnik@brandeis.edu')), (401, ('Timothy J', 'Hickey', 'tjhickey@brandeis.edu')), (388, ('Bryan', 'Ingoglia', 'ingoglia@brandeis.edu')), (355, ('Claudia', 'Novack', 'novack@brandeis.edu')), (341, ('Antonella', 'DiLillo', 'dilant@brandeis.edu')), (337, ('Rachel V.E.', 'Woodruff', 'woodruff@brandeis.edu')), (327, ('Daniel', 'Breen', 'dbreen91@brandeis.edu'))]\n"
     ]
    }
   ],
   "source": [
    "def students_taught(instructor):\n",
    "    return sum({course['enrolled'] for course in courses if course['instructor']==instructor})\n",
    "top_facu=sorted([(students_taught(instructor),instructor) for instructor in instructors],reverse=True)[:10]\n",
    "print(\"Top 20 faculty in terms of number of students they taught:\\n\",[sub[1] for sub in top_facu],\"\\n---------\\n\",\"More info (# of enrollment,faculty):\\n\",top_facu)"
   ]
  },
  {
   "cell_type": "markdown",
   "metadata": {},
   "source": [
    "# 5.h: List the top 20 courses in terms of number of students taking that course across semesters and sections"
   ]
  },
  {
   "cell_type": "code",
   "execution_count": 17,
   "metadata": {},
   "outputs": [
    {
     "name": "stdout",
     "output_type": "stream",
     "text": [
      "1. Navigating Health and Safety - 940\n",
      "2. Introduction to Navigating Health and Safety - 879\n",
      "3. General Biology Laboratory - 536\n",
      "4. Dissertation Research - 381\n",
      "5. Genetics and Genomics - 358\n",
      "6. Introduction to Problem Solving in Python - 343\n",
      "7. Introduction to Psychology - 336\n",
      "8. Cells and Organisms - 287\n",
      "9. Techniques of Calculus (a) - 280\n",
      "10. Financial Accounting - 247\n",
      "11. Organic Chemistry Laboratory I - 245\n",
      "12. Organic Chemistry Laboratory II - 239\n",
      "13. Organic Chemistry I - 236\n",
      "14. Statistics - 231\n",
      "15. Organic Chemistry II - 226\n",
      "16. Advanced Programming Techniques in Java - 225\n",
      "17. General Chemistry Laboratory I - 208\n",
      "18. Senior Research - 207\n",
      "19. Introduction to Microeconomics - 207\n",
      "20. Applied Linear Algebra - 204\n"
     ]
    }
   ],
   "source": [
    "tops = {}\n",
    "for c in courses:\n",
    "    name = c['name']\n",
    "    enrolled = c['enrolled']\n",
    "    if name in tops:\n",
    "        tops[name] = tops[name] + enrolled\n",
    "    else:\n",
    "        tops[name] = enrolled\n",
    "sorted_tops = [(k,v) for k, v in sorted(tops.items(), key=lambda x: x[1], reverse=True)]\n",
    "count = 1\n",
    "for course in sorted_tops:\n",
    "    if (count > 20):\n",
    "        break\n",
    "    print(str(count) + \". \" + course[0] + \" - \" + str(course[1]))\n",
    "    count += 1"
   ]
  },
  {
   "cell_type": "markdown",
   "metadata": {},
   "source": [
    "# 5.i Creative Questions"
   ]
  },
  {
   "cell_type": "markdown",
   "metadata": {},
   "source": [
    "Angelo's question - What is the average amount of students in a COSI courses that have at least 1 student?"
   ]
  },
  {
   "cell_type": "code",
   "execution_count": 18,
   "metadata": {},
   "outputs": [
    {
     "name": "stdout",
     "output_type": "stream",
     "text": [
      "The average amount of students in a COSI course that has students is 18!\n"
     ]
    }
   ],
   "source": [
    "cosi_enrollments = [c['enrolled'] for c in courses if c['subject'] == \"COSI\" if c['enrolled'] > 0]\n",
    "sum3 = 0\n",
    "for val in cosi_enrollments:\n",
    "    sum3 += val\n",
    "avg = sum3 // len(cosi_enrollments)\n",
    "print(\"The average amount of students in a COSI course that has students is \" + str(avg) + \"!\")"
   ]
  },
  {
   "cell_type": "markdown",
   "metadata": {},
   "source": [
    "\n",
    "Su Lei's question - What percentage of available courses required instrucutor's signature to enroll?"
   ]
  },
  {
   "cell_type": "code",
   "execution_count": 19,
   "metadata": {},
   "outputs": [
    {
     "name": "stdout",
     "output_type": "stream",
     "text": [
      "0.38 % of the courses required instrutor's signature.\n"
     ]
    }
   ],
   "source": [
    "sign_required=[course for course in courses if \"Instructor's Signature Required\".lower() in course['details'].lower()]\n",
    "percentage = len(sign_required)/len(courses)\n",
    "print(\"{:.2f}\".format(percentage),\"% of the courses required instrutor's signature.\")"
   ]
  },
  {
   "cell_type": "markdown",
   "metadata": {},
   "source": [
    "# 6.a,b,c: Showing the title, description and custom filter"
   ]
  },
  {
   "cell_type": "code",
   "execution_count": 20,
   "metadata": {},
   "outputs": [
    {
     "name": "stdout",
     "output_type": "stream",
     "text": [
      "Computer Simulations and Risk Assessment\n",
      "-----\n",
      "Meets for one-half semester and yields half-course credit. \n",
      "\n",
      "Examines the relation between democracy and development geared for development practitioners and policy-makers. Students will discuss if democracy is essential for sustainable development and, if so, what kinds of democracy should be promoted in developing countries. The major critiques of aid and development theory rooted in secular democracy, free-market economies, and human rights will be explored. Usually offered every year.\n",
      "Rajesh Sampath\n",
      "-----\n",
      "Readings in Jewish Professional Leadership - True\n"
     ]
    }
   ],
   "source": [
    "s = Schedule(courses)\n",
    "#print(s.courses[:3])\n",
    "titles = s.title(\"computer\")\n",
    "descriptions = s.description(\"human\")\n",
    "ind_studies = s.independent_study_filter(True)\n",
    "print(titles.courses[0]['name'])\n",
    "print(\"-----\")\n",
    "print(descriptions.courses[0]['description'])\n",
    "print(\"-----\")\n",
    "print(ind_studies.courses[0]['name'] + \" - \" + str(ind_studies.courses[0]['independent_study']))"
   ]
  },
  {
   "cell_type": "code",
   "execution_count": 21,
   "metadata": {},
   "outputs": [
    {
     "name": "stdout",
     "output_type": "stream",
     "text": [
      "{'limit': None, 'times': [], 'enrolled': 0, 'details': \"Instructor's Signature Required.\", 'type': 'section', 'status_text': 'Open Consent Req.', 'section': '1', 'waiting': 0, 'instructor': ('Janet', 'McIntosh', 'janetmc@brandeis.edu'), 'coinstructors': (), 'code': ('ANTH', '223A'), 'subject': 'ANTH', 'coursenum': '223A', 'name': 'Readings and Research in Anthropology', 'independent_study': True, 'term': '1203', 'description': 'Janet McIntosh'}\n",
      "-----\n",
      "-----\n"
     ]
    }
   ],
   "source": [
    "atest = s.code(\"223A\")\n",
    "stest = s.code(\"MATH\")\n",
    "print(atest.courses[0])\n",
    "print(\"-----\")\n",
    "print(stest.courses[0])\n",
    "print(\"-----\")"
   ]
  },
  {
   "cell_type": "code",
   "execution_count": null,
   "metadata": {},
   "outputs": [],
   "source": []
  }
 ],
 "metadata": {
  "kernelspec": {
   "display_name": "Python 3",
   "language": "python",
   "name": "python3"
  },
  "language_info": {
   "codemirror_mode": {
    "name": "ipython",
    "version": 3
   },
   "file_extension": ".py",
   "mimetype": "text/x-python",
   "name": "python",
   "nbconvert_exporter": "python",
   "pygments_lexer": "ipython3",
   "version": "3.9.1"
  }
 },
 "nbformat": 4,
 "nbformat_minor": 4
}
