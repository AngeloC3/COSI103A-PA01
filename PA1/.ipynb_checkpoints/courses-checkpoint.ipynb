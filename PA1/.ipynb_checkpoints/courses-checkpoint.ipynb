{
 "cells": [
  {
   "cell_type": "markdown",
   "metadata": {},
   "source": [
    "# Courses Demo\n",
    "This Jupyter notebook is for exploring the data set courses20-21.json\n",
    "which consists of all Brandeis courses in the 20-21 academic year (Fall20, Spr21, Sum21) \n",
    "which had at least 1 student enrolled.\n",
    "\n",
    "First we need to read the json file into a list of Python dictionaries"
   ]
  },
  {
   "cell_type": "code",
   "execution_count": 2,
   "metadata": {},
   "outputs": [],
   "source": [
    "import json"
   ]
  },
  {
   "cell_type": "code",
   "execution_count": 3,
   "metadata": {},
   "outputs": [],
   "source": [
    "with open(\"courses20-21.json\",\"r\",encoding='utf-8') as jsonfile:\n",
    "    courses = json.load(jsonfile)"
   ]
  },
  {
   "cell_type": "markdown",
   "metadata": {},
   "source": [
    "## Structure of a course\n",
    "Next we look at the fields of each course dictionary and their values"
   ]
  },
  {
   "cell_type": "code",
   "execution_count": 4,
   "metadata": {},
   "outputs": [
    {
     "name": "stdout",
     "output_type": "stream",
     "text": [
      "there are 7813 courses in the dataset\n",
      "here is the data for course 1246\n"
     ]
    },
    {
     "data": {
      "text/plain": [
       "{'limit': 28,\n",
       " 'times': [{'start': 1080, 'end': 1170, 'days': ['w', 'm']}],\n",
       " 'enrolled': 4,\n",
       " 'details': 'Instruction for this course will be offered remotely. Meeting times for this course are listed in the schedule of classes (in ET).',\n",
       " 'type': 'section',\n",
       " 'status_text': 'Open',\n",
       " 'section': '1',\n",
       " 'waiting': 0,\n",
       " 'instructor': ['An', 'Huang', 'anhuang@brandeis.edu'],\n",
       " 'coinstructors': [],\n",
       " 'code': ['MATH', '223A'],\n",
       " 'subject': 'MATH',\n",
       " 'coursenum': '223A',\n",
       " 'name': 'Lie Algebras: Representation Theory',\n",
       " 'independent_study': False,\n",
       " 'term': '1203',\n",
       " 'description': \"Theorems of Engel and Lie. Semisimple Lie algebras, Cartan's criterion. Universal enveloping algebras, PBW theorem, Serre's construction. Representation theory. Other topics as time permits. Usually offered every second year.\\nAn Huang\"}"
      ]
     },
     "execution_count": 4,
     "metadata": {},
     "output_type": "execute_result"
    }
   ],
   "source": [
    "print('there are',len(courses),'courses in the dataset')\n",
    "print('here is the data for course 1246')\n",
    "courses[1246]"
   ]
  },
  {
   "cell_type": "markdown",
   "metadata": {},
   "source": [
    "## Cleaning the data\n",
    "If we want to sort courses by instructor or by code, we need to replace the lists with tuples (which are immutable lists)"
   ]
  },
  {
   "cell_type": "code",
   "execution_count": 5,
   "metadata": {},
   "outputs": [],
   "source": [
    "for course in courses:\n",
    "        course['instructor'] = tuple(course['instructor'])\n",
    "        course['coinstructors'] = tuple([tuple(f) for f in course['coinstructors']])\n",
    "        course['code']= tuple(course['code'])"
   ]
  },
  {
   "cell_type": "code",
   "execution_count": 6,
   "metadata": {},
   "outputs": [
    {
     "name": "stdout",
     "output_type": "stream",
     "text": [
      "notice that the instructor and code are tuples now\n"
     ]
    },
    {
     "data": {
      "text/plain": [
       "{'limit': 28,\n",
       " 'times': [{'start': 1080, 'end': 1170, 'days': ['w', 'm']}],\n",
       " 'enrolled': 4,\n",
       " 'details': 'Instruction for this course will be offered remotely. Meeting times for this course are listed in the schedule of classes (in ET).',\n",
       " 'type': 'section',\n",
       " 'status_text': 'Open',\n",
       " 'section': '1',\n",
       " 'waiting': 0,\n",
       " 'instructor': ('An', 'Huang', 'anhuang@brandeis.edu'),\n",
       " 'coinstructors': (),\n",
       " 'code': ('MATH', '223A'),\n",
       " 'subject': 'MATH',\n",
       " 'coursenum': '223A',\n",
       " 'name': 'Lie Algebras: Representation Theory',\n",
       " 'independent_study': False,\n",
       " 'term': '1203',\n",
       " 'description': \"Theorems of Engel and Lie. Semisimple Lie algebras, Cartan's criterion. Universal enveloping algebras, PBW theorem, Serre's construction. Representation theory. Other topics as time permits. Usually offered every second year.\\nAn Huang\"}"
      ]
     },
     "execution_count": 6,
     "metadata": {},
     "output_type": "execute_result"
    }
   ],
   "source": [
    "print('notice that the instructor and code are tuples now')\n",
    "courses[1246]"
   ]
  },
  {
   "cell_type": "markdown",
   "metadata": {},
   "source": [
    "# Exploring the data set\n",
    "Now we will show how to use straight python to explore the data set and answer some interesting questions. Next week we will start learning Pandas/Numpy which are packages that make it easier to explore large dataset efficiently.\n",
    "\n",
    "Here are some questions we can try to asnwer:\n",
    "* what are all of the subjects of courses (e.g. COSI, MATH, JAPN, PHIL, ...)\n",
    "* which terms are represented?\n",
    "* how many instructors taught at Brandeis last year?\n",
    "* what were the five largest course sections?\n",
    "* what were the five largest courses (where we combine sections)?\n",
    "* which are the five largest subjects measured by number of courses offered?\n",
    "* which are the five largest courses measured by number of students taught?\n",
    "* which course had the most sections taught in 20-21?\n",
    "* who are the top five faculty in terms of number of students taught?\n",
    "* etc."
   ]
  },
  {
   "cell_type": "markdown",
   "metadata": {},
   "source": [
    "# Which terms are represented?"
   ]
  },
  {
   "cell_type": "code",
   "execution_count": 7,
   "metadata": {},
   "outputs": [
    {
     "name": "stdout",
     "output_type": "stream",
     "text": [
      "{'1212', '1203', '1211'}\n"
     ]
    }
   ],
   "source": [
    "terms = {c['term'] for c in courses}\n",
    "print(terms)"
   ]
  },
  {
   "cell_type": "markdown",
   "metadata": {},
   "source": [
    "# What are all the subjects"
   ]
  },
  {
   "cell_type": "code",
   "execution_count": 8,
   "metadata": {},
   "outputs": [
    {
     "name": "stdout",
     "output_type": "stream",
     "text": [
      "There are 120 subjects. They are:\n",
      "{'AMST/MUS', 'ANTH/WGS', 'PHYS', 'BUS', 'SAS', 'BIOT', 'EBIO', 'CHSC', 'RBOT', 'AAS/AAPI', 'RDFT', 'ECON', 'ECON/FIN', 'BCHM', 'PHIL', 'HS/POL', 'RHIN', 'CHIN', 'HRNS', 'QR', 'CBIO', 'COML', 'EL', 'PAX', 'RIDT', 'HS', 'LAT', 'BISC', 'QBIO', 'ANTH', 'MATH', 'BUS/FIN', 'EAS', 'AMST/ENG', 'MUS', 'GRK', 'NEUR', 'HISP', 'HIST', 'IIM', 'FIN', 'ECS', 'FREN', 'NBIO', 'FA', 'PMED', 'UWS', 'HIST/WGS', 'SJSP', 'JAPN', 'BCBP', 'PSYC', 'HOID', 'KOR', 'CHEM', 'ED', 'REL', 'RIAS', 'HSSP', 'LALS', 'YDSH', 'THA', 'NPSY', 'CLAS/ENG', 'ITAL', 'NEJS', 'CAST', 'RMGT', 'CA', 'AAAS', 'AMST', 'CLAS/NEJ', 'RECS/THA', 'AAPI/WGS', 'COSI', 'HUM/UWS', 'IGS', 'GECS', 'RSEG', 'RUS', 'LING', 'HUM', 'ARBC', 'GS', 'RCOM', 'BUS/ECON', 'RECS', 'HWL', 'RSAN', 'HBRW', 'INT', 'ENVS', 'HIST/SOC', 'GER', 'RDMD', 'AAAS/WGS', 'CLAS', 'LGLS', 'MERS', 'COMP', 'BIOL', 'JOUR', 'WGS', 'BIPH', 'RUCD', 'POL', 'COMH', 'RBIF', 'IMES', 'AAPI', 'ESL', 'FILM', 'POL/WGS', 'BIBC', 'ENG', 'AAPI/HIS', 'AAAS/HIS', 'ECS/ENG', 'SOC', 'RPJM'}\n"
     ]
    }
   ],
   "source": [
    "subjects = {c['subject'] for c in courses}\n",
    "print(\"There are \" + str(len(subjects)) + \" subjects. They are:\")\n",
    "print(subjects)"
   ]
  },
  {
   "cell_type": "markdown",
   "metadata": {},
   "source": [
    "# How many instructors taught at Brandeis last year?"
   ]
  },
  {
   "cell_type": "code",
   "execution_count": 9,
   "metadata": {},
   "outputs": [
    {
     "name": "stdout",
     "output_type": "stream",
     "text": [
      "There are 904 instuctors.\n"
     ]
    }
   ],
   "source": [
    "# I'm not sure which terms are considered to be last year, so this includes all terms\n",
    "instructors = {c['instructor'] for c in courses}\n",
    "print(\"There are \" + str(len(instructors)) + \" instuctors.\")"
   ]
  },
  {
   "cell_type": "code",
   "execution_count": 19,
   "metadata": {},
   "outputs": [
    {
     "name": "stdout",
     "output_type": "stream",
     "text": [
      "There are 652 instuctors that taught a class with at least 10 students.\n"
     ]
    }
   ],
   "source": [
    "instructors = {c['instructor'] for c in courses if c['enrolled']>=10}\n",
    "print(\"There are \" + str(len(instructors)) + \" instuctors that taught a class with at least 10 students.\")"
   ]
  },
  {
   "cell_type": "markdown",
   "metadata": {},
   "source": [
    "# What are the 5 largest course sections?"
   ]
  },
  {
   "cell_type": "code",
   "execution_count": 11,
   "metadata": {},
   "outputs": [
    {
     "data": {
      "text/plain": [
       "[(784, 'Introduction to Navigating Health and Safety'),\n",
       " (186, 'Organic Chemistry I'),\n",
       " (186, 'Physiology'),\n",
       " (181, 'Cells and Organisms'),\n",
       " (180, 'Organic Chemistry II')]"
      ]
     },
     "execution_count": 11,
     "metadata": {},
     "output_type": "execute_result"
    }
   ],
   "source": [
    "largest_courses = sorted(courses, key = lambda course: course['enrolled'], reverse=True)\n",
    "[(course['enrolled'], course['name']) for course in largest_courses[:5]]"
   ]
  },
  {
   "cell_type": "markdown",
   "metadata": {},
   "source": [
    "# What is the total number of students taking COSI courses last year?"
   ]
  },
  {
   "cell_type": "code",
   "execution_count": 15,
   "metadata": {},
   "outputs": [
    {
     "name": "stdout",
     "output_type": "stream",
     "text": [
      "There were 2223 students taking COSI last year.\n"
     ]
    }
   ],
   "source": [
    "cosi_students_nums = [c['enrolled'] for c in courses if c['subject'] == 'COSI']\n",
    "sum = 0\n",
    "for num in cosi_students_nums:\n",
    "    sum += num\n",
    "print(\"There were \" + str(sum) + \" students taking COSI last year.\" )"
   ]
  },
  {
   "cell_type": "markdown",
   "metadata": {},
   "source": [
    "# What was the median size of a COSI course last year (counting only those courses with at least 10 students)"
   ]
  },
  {
   "cell_type": "code",
   "execution_count": 47,
   "metadata": {},
   "outputs": [
    {
     "name": "stdout",
     "output_type": "stream",
     "text": [
      "The median size of a COSI course last year was 37.\n"
     ]
    }
   ],
   "source": [
    "cosi_courses = [c for c in courses if c['subject'] == 'COSI' if c['enrolled'] >= 10]\n",
    "sortedCC = sorted(cosi_courses, key = lambda course: course['enrolled'])\n",
    "midIndex = len(sortedCC) // 2\n",
    "if ( len(sortedCC) % 2 != 0):\n",
    "    median = sortedCC[midIndex]['enrolled']\n",
    "else:\n",
    "    a = sortedCC[midIndex]['enrolled']\n",
    "    b = sortedCC[midIndex+1]['enrolled']\n",
    "    median = (a + b) / 2\n",
    "print(\"The median size of a COSI course last year was \" + str(median) + \".\")"
   ]
  },
  {
   "cell_type": "code",
   "execution_count": null,
   "metadata": {},
   "outputs": [],
   "source": []
  }
 ],
 "metadata": {
  "kernelspec": {
   "display_name": "Python 3",
   "language": "python",
   "name": "python3"
  },
  "language_info": {
   "codemirror_mode": {
    "name": "ipython",
    "version": 3
   },
   "file_extension": ".py",
   "mimetype": "text/x-python",
   "name": "python",
   "nbconvert_exporter": "python",
   "pygments_lexer": "ipython3",
   "version": "3.9.1"
  }
 },
 "nbformat": 4,
 "nbformat_minor": 4
}
